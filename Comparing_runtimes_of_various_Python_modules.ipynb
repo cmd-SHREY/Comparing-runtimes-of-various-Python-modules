{
  "nbformat": 4,
  "nbformat_minor": 0,
  "metadata": {
    "colab": {
      "provenance": []
    },
    "kernelspec": {
      "name": "python3",
      "display_name": "Python 3"
    },
    "accelerator": "GPU"
  },
  "cells": [
    {
      "cell_type": "code",
      "metadata": {
        "colab": {
          "base_uri": "https://localhost:8080/"
        },
        "id": "7MExzheywBn2",
        "outputId": "e22b7440-052c-4950-99ea-53c766446657"
      },
      "source": [
        "!pip install pymatrix"
      ],
      "execution_count": null,
      "outputs": [
        {
          "output_type": "stream",
          "text": [
            "Collecting pymatrix\n",
            "  Downloading https://files.pythonhosted.org/packages/df/11/519cbfdb6ee7d7b37e8e11aff3e66b2b4270130af958df22711d5da4b030/pymatrix-3.0.1.tar.gz\n",
            "Building wheels for collected packages: pymatrix\n",
            "  Building wheel for pymatrix (setup.py) ... \u001b[?25l\u001b[?25hdone\n",
            "  Created wheel for pymatrix: filename=pymatrix-3.0.1-cp36-none-any.whl size=7067 sha256=1082fa4718ba01c6c1086142849eb3819f59d0ebfb81121a19287875b52b7308\n",
            "  Stored in directory: /root/.cache/pip/wheels/7a/b5/9a/d5e6c01679e1a22385c2112e667314703a79fe7560a33f824c\n",
            "Successfully built pymatrix\n",
            "Installing collected packages: pymatrix\n",
            "Successfully installed pymatrix-3.0.1\n"
          ],
          "name": "stdout"
        }
      ]
    },
    {
      "cell_type": "code",
      "metadata": {
        "colab": {
          "base_uri": "https://localhost:8080/"
        },
        "id": "gXrzTGZYxWTq",
        "outputId": "4959d901-1d23-4392-9dcc-d80dc970294b"
      },
      "source": [
        "!pip install linalg"
      ],
      "execution_count": null,
      "outputs": [
        {
          "output_type": "stream",
          "text": [
            "Collecting linalg\n",
            "  Downloading https://files.pythonhosted.org/packages/15/68/842a0b2821c347941611ec6bdac84656d9ee8118509b27b9779c50500880/linalg-1.0.4.tar.gz\n",
            "Building wheels for collected packages: linalg\n",
            "  Building wheel for linalg (setup.py) ... \u001b[?25l\u001b[?25hdone\n",
            "  Created wheel for linalg: filename=linalg-1.0.4-cp36-none-any.whl size=6294 sha256=7f44d29f192fc8fe6e068732f46b541c0ec924d1a17c57a8aa55a2c6e5a2f6c1\n",
            "  Stored in directory: /root/.cache/pip/wheels/a6/09/2b/ed39c10f756adfcf310484fda9ff8ca0f647fc08fb2171a76b\n",
            "Successfully built linalg\n",
            "Installing collected packages: linalg\n",
            "Successfully installed linalg-1.0.4\n"
          ],
          "name": "stdout"
        }
      ]
    },
    {
      "cell_type": "code",
      "metadata": {
        "id": "rRKg298lkYpn"
      },
      "source": [
        "import numpy as np\n",
        "import random\n",
        "from threading import Thread\n",
        "import time\n",
        "import pandas as pd\n",
        "import sympy as sp\n",
        "from sympy.matrices import Matrix\n",
        "import linalg\n",
        "from pymatrix import Matrix\n",
        "import tensorflow as tf\n"
      ],
      "execution_count": null,
      "outputs": []
    },
    {
      "cell_type": "code",
      "metadata": {
        "id": "MTrqgwT9khoV"
      },
      "source": [
        "size = 100\n",
        "mat1 = np.random.randint(1,10,(size,size))\n",
        "mat2 = np.random.randint(1,10,(size,size))\n"
      ],
      "execution_count": null,
      "outputs": []
    },
    {
      "cell_type": "code",
      "metadata": {
        "colab": {
          "base_uri": "https://localhost:8080/"
        },
        "id": "72UPxDPkkyqT",
        "outputId": "7856599a-3bf5-4a84-e085-7339220e363f"
      },
      "source": [
        "mat1.shape,mat2.shape"
      ],
      "execution_count": null,
      "outputs": [
        {
          "output_type": "execute_result",
          "data": {
            "text/plain": [
              "((100, 100), (100, 100))"
            ]
          },
          "metadata": {
            "tags": []
          },
          "execution_count": 6
        }
      ]
    },
    {
      "cell_type": "markdown",
      "metadata": {
        "id": "tfVGxhilk64I"
      },
      "source": [
        "Serial"
      ]
    },
    {
      "cell_type": "code",
      "metadata": {
        "id": "n7xKJ7Hvkzv0"
      },
      "source": [
        "def matmul_serial(mat1,mat2):\n",
        "\n",
        "  res = np.array([[0 for x in range(mat1.shape[1])] for y in range(mat2.shape[0])])\n",
        "  start=time.time()\n",
        "  for i in range(len(mat1)):\n",
        "      for j in range(len(mat2[0])):\n",
        "          for k in range(len(mat2)):\n",
        "\n",
        "              res[i][j] += mat1[i][k] * mat2[k][j]\n",
        "  return (\"Serial\",time.time()-start)"
      ],
      "execution_count": null,
      "outputs": []
    },
    {
      "cell_type": "markdown",
      "metadata": {
        "id": "HlshaTbclT9A"
      },
      "source": [
        "Data Parallel"
      ]
    },
    {
      "cell_type": "code",
      "metadata": {
        "id": "ozbt0mvplHx_"
      },
      "source": [
        "def multiply(n1,n2,rets,ind):\n",
        "    rets[ind]= n1*n2\n",
        "def matmul_data_parallel(a,b):\n",
        "    threads = [None] * len(a)\n",
        "    ret = [None] * len(a)\n",
        "    res = []\n",
        "    start=time.time()\n",
        "    for i in range (len(a)):\n",
        "        dummy_var=[]\n",
        "        for j in range(len(b[0])):\n",
        "            for k in range(len(b)):\n",
        "                threads[k] = Thread(target=multiply, args=(a[i][k],b[k][j],ret,k))\n",
        "                threads[k].start()\n",
        "            dummy_var.append(sum(ret))\n",
        "            # print(dummy_var)\n",
        "        res.append(dummy_var)\n",
        "    return (\"Data Parallel\",time.time()-start)\n",
        "\n"
      ],
      "execution_count": null,
      "outputs": []
    },
    {
      "cell_type": "markdown",
      "metadata": {
        "id": "xRJLf3qhnry7"
      },
      "source": [
        "Numpy Implementation"
      ]
    },
    {
      "cell_type": "code",
      "metadata": {
        "id": "kf3h-ilrlIxU"
      },
      "source": [
        "def matmul_np(mat1,mat2):\n",
        "  start=time.time()\n",
        "  mat1 @ mat2\n",
        "  return (\"Numpy\",time.time()-start)"
      ],
      "execution_count": null,
      "outputs": []
    },
    {
      "cell_type": "code",
      "metadata": {
        "colab": {
          "base_uri": "https://localhost:8080/"
        },
        "id": "0O2h0YkOnxI6",
        "outputId": "0425e73d-13c0-41df-ad05-8c3e522a2951"
      },
      "source": [
        "matmul_np(mat1,mat2)"
      ],
      "execution_count": null,
      "outputs": [
        {
          "output_type": "execute_result",
          "data": {
            "text/plain": [
              "('Numpy', 0.003731250762939453)"
            ]
          },
          "metadata": {
            "tags": []
          },
          "execution_count": 16
        }
      ]
    },
    {
      "cell_type": "markdown",
      "metadata": {
        "id": "nmACPZetrSOo"
      },
      "source": [
        "Pandas Implementation\n"
      ]
    },
    {
      "cell_type": "code",
      "metadata": {
        "id": "aQD3mmudpFTV"
      },
      "source": [
        "def matmul_pandas(mat1,mat2):\n",
        "  start=time.time()\n",
        "  mat1_df=pd.DataFrame(data=mat1)\n",
        "  mat2_df=pd.DataFrame(data=mat2)\n",
        "  mat1_df.dot(mat2_df)\n",
        "  return (\"Pandas\",time.time()-start)"
      ],
      "execution_count": null,
      "outputs": []
    },
    {
      "cell_type": "code",
      "metadata": {
        "colab": {
          "base_uri": "https://localhost:8080/"
        },
        "id": "wzqBX8oXr3wG",
        "outputId": "8598c517-9b49-4f61-d623-7f502bc0346f"
      },
      "source": [
        "matmul_pandas(mat1,mat2)"
      ],
      "execution_count": null,
      "outputs": [
        {
          "output_type": "execute_result",
          "data": {
            "text/plain": [
              "('Pandas', 0.0036382675170898438)"
            ]
          },
          "metadata": {
            "tags": []
          },
          "execution_count": 18
        }
      ]
    },
    {
      "cell_type": "markdown",
      "metadata": {
        "id": "HWNDk3ITvFE1"
      },
      "source": [
        "Sympy Implementation"
      ]
    },
    {
      "cell_type": "code",
      "metadata": {
        "id": "vwg9ZPaPtf00"
      },
      "source": [
        "def matmul_sympy(mat1,mat2):\n",
        "  start=time.time()\n",
        "  sp.Matrix(mat1)*(sp.Matrix(mat2))\n",
        "  return (\"Sympy\",time.time()-start)"
      ],
      "execution_count": null,
      "outputs": []
    },
    {
      "cell_type": "code",
      "metadata": {
        "colab": {
          "base_uri": "https://localhost:8080/"
        },
        "id": "-zTa1nkUt_CQ",
        "outputId": "80857a17-7ba1-4264-da76-c11f9e7b8e7e"
      },
      "source": [
        "matmul_sympy(mat1,mat2)"
      ],
      "execution_count": null,
      "outputs": [
        {
          "output_type": "execute_result",
          "data": {
            "text/plain": [
              "('Sympy', 3.007856607437134)"
            ]
          },
          "metadata": {
            "tags": []
          },
          "execution_count": 20
        }
      ]
    },
    {
      "cell_type": "markdown",
      "metadata": {
        "id": "rI0CikDRwJ6j"
      },
      "source": [
        "PyMatrix Implementation"
      ]
    },
    {
      "cell_type": "code",
      "metadata": {
        "id": "JkgiB_gUu0vE"
      },
      "source": [
        "def matmul_pymatrix(mat1,mat2):\n",
        "  start=time.time()\n",
        "  m1=Matrix.from_list(mat1)\n",
        "  m2=Matrix.from_list(mat2)\n",
        "  m1*m2\n",
        "  return (\"pymatrix\",time.time()-start)\n",
        "\n"
      ],
      "execution_count": null,
      "outputs": []
    },
    {
      "cell_type": "code",
      "metadata": {
        "colab": {
          "base_uri": "https://localhost:8080/"
        },
        "id": "-CCgKFII0q_k",
        "outputId": "0a61d5c9-9b65-44b9-94a2-225b408290af"
      },
      "source": [
        "matmul_pymatrix(mat1,mat2)"
      ],
      "execution_count": null,
      "outputs": [
        {
          "output_type": "execute_result",
          "data": {
            "text/plain": [
              "('pymatrix', 0.8341310024261475)"
            ]
          },
          "metadata": {
            "tags": []
          },
          "execution_count": 22
        }
      ]
    },
    {
      "cell_type": "markdown",
      "metadata": {
        "id": "bwzaX94mxbgz"
      },
      "source": [
        "Linalg Implementation"
      ]
    },
    {
      "cell_type": "code",
      "metadata": {
        "id": "bhiEVp1vwZor"
      },
      "source": [
        "def matmul_linalg(mat1,mat2):\n",
        "  start=time.time()\n",
        "  # m1=linalg.Matrix(mat1)\n",
        "  # m2=linalg.Matrix(mat2)\n",
        "  m1 = linalg.random_matrix((size, size), (0, 10))\n",
        "  m2 = linalg.random_matrix((size, size), (0, 10))\n",
        "  m1 @ m2\n",
        "  return (\"Linalg\",time.time()-start)\n",
        "\n"
      ],
      "execution_count": null,
      "outputs": []
    },
    {
      "cell_type": "code",
      "metadata": {
        "colab": {
          "base_uri": "https://localhost:8080/"
        },
        "id": "hPJC3TZExvKn",
        "outputId": "eb64f85e-160d-4f58-819a-e4623b7a271e"
      },
      "source": [
        "matmul_linalg(mat1,mat2)"
      ],
      "execution_count": null,
      "outputs": [
        {
          "output_type": "execute_result",
          "data": {
            "text/plain": [
              "('Linalg', 0.09282279014587402)"
            ]
          },
          "metadata": {
            "tags": []
          },
          "execution_count": 24
        }
      ]
    },
    {
      "cell_type": "markdown",
      "metadata": {
        "id": "F_-UrRdH8-Ah"
      },
      "source": [
        "Tensorflow"
      ]
    },
    {
      "cell_type": "code",
      "metadata": {
        "id": "sBULq3DdxzWi"
      },
      "source": [
        "def matmul_tf(mat1,mat2):\n",
        "  start=time.time()\n",
        "  m1=tf.convert_to_tensor(mat1,dtype=tf.int32)\n",
        "  m2=tf.convert_to_tensor(mat2,dtype=tf.int32)\n",
        "  tf.matmul(m1,m2)\n",
        "  return (\"Tensorflow\",time.time()-start)\n"
      ],
      "execution_count": null,
      "outputs": []
    },
    {
      "cell_type": "code",
      "metadata": {
        "colab": {
          "base_uri": "https://localhost:8080/"
        },
        "id": "xSup34BMx_YI",
        "outputId": "ff125346-8068-4e7c-8c64-412b6a514ee9"
      },
      "source": [
        "matmul_tf(mat1,mat2)"
      ],
      "execution_count": null,
      "outputs": [
        {
          "output_type": "execute_result",
          "data": {
            "text/plain": [
              "('Tensorflow', 0.0012638568878173828)"
            ]
          },
          "metadata": {
            "tags": []
          },
          "execution_count": 27
        }
      ]
    },
    {
      "cell_type": "code",
      "metadata": {
        "id": "HMq8C2Hh9VCx"
      },
      "source": [
        "all_functions={}\n",
        "for i in [matmul_tf,matmul_linalg,matmul_pymatrix,matmul_sympy,matmul_pandas,matmul_np,matmul_data_parallel,matmul_serial]:\n",
        "  key,value=i(mat1,mat2)\n",
        "  all_functions[key]=value\n"
      ],
      "execution_count": null,
      "outputs": []
    },
    {
      "cell_type": "code",
      "metadata": {
        "colab": {
          "base_uri": "https://localhost:8080/",
          "height": 592
        },
        "id": "Yxf3NzyU-Hyv",
        "outputId": "f947aeb4-85f9-41c0-ba36-c64d621603ac"
      },
      "source": [
        "import matplotlib.pyplot as plt\n",
        "plt.figure(figsize=(10,10))\n",
        "plt.plot(range(len(all_functions)), list(all_functions.values()))\n",
        "plt.xticks(range(len(all_functions)), list(all_functions.keys()))\n",
        "plt.show()"
      ],
      "execution_count": null,
      "outputs": [
        {
          "output_type": "display_data",
          "data": {
            "image/png": "[encoded data removed]",
            "text/plain": [
              "<Figure size 720x720 with 1 Axes>"
            ]
          },
          "metadata": {
            "tags": [],
            "needs_background": "light"
          }
        }
      ]
    },
    {
      "cell_type": "code",
      "metadata": {
        "id": "E_eLAFMZ_emV"
      },
      "source": [],
      "execution_count": null,
      "outputs": []
    }
  ]
}